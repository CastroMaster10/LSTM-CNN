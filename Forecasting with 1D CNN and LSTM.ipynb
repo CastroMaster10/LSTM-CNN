{
 "cells": [
  {
   "cell_type": "markdown",
   "metadata": {
    "id": "XS-wWjsfWlec"
   },
   "source": [
    "# Time series forecasting with 1D CNN and LSTM\n",
    "\n",
    "Once again, we'll work with the weather time series dataset collected at the weather station of the Max Planck Institute for Biogeochemistry in Jena, Germany.\n",
    "\n",
    "Keep in mind that dataset includes 14 different variables such as air temperature, air pressure, humidity, wind direction and others, recorded every 10 minutes over several years. While the original data go back to 2003, our focus here is on the data from 2009 to 2016. Our goal is to construct a model that takes recent historical data (a few days' worth of data points) as input and predicts the air temperature 24 hours into the future.\n",
    "\n",
    "You can obtain and decompress the data using the following instructions:"
   ]
  },
  {
   "cell_type": "code",
   "execution_count": 1,
   "metadata": {
    "colab": {
     "base_uri": "https://localhost:8080/"
    },
    "id": "5BwJA25KWlec",
    "outputId": "1a6df6d5-930e-405e-d651-26eba2469d06"
   },
   "outputs": [
    {
     "name": "stderr",
     "output_type": "stream",
     "text": [
      "--2025-04-01 23:29:50--  https://s3.amazonaws.com/keras-datasets/jena_climate_2009_2016.csv.zip\n",
      "Resolving s3.amazonaws.com (s3.amazonaws.com)... 3.5.22.207, 16.15.192.209, 54.231.164.32, ...\n",
      "Connecting to s3.amazonaws.com (s3.amazonaws.com)|3.5.22.207|:443... connected.\n"
     ]
    },
    {
     "name": "stderr",
     "output_type": "stream",
     "text": [
      "HTTP request sent, awaiting response... 200 OK\n",
      "Length: 13565642 (13M) [application/zip]\n",
      "Saving to: ‘jena_climate_2009_2016.csv.zip’\n",
      "\n",
      "     0K .......... .......... .......... .......... ..........  0%  961K 14s\n",
      "    50K .......... .......... .......... .......... ..........  0%  961K 14s\n",
      "   100K .......... .......... .......... .......... ..........  1%  156M 9s\n",
      "   150K .......... .......... .......... .......... ..........  1%  968K 10s\n",
      "   200K .......... .......... .......... .......... ..........  1%  171M 8s\n",
      "   250K .......... .......... .......... .......... ..........  2%  161M 7s\n",
      "   300K .......... .......... .......... .......... ..........  2% 42.3M 6s\n",
      "   350K .......... .......... .......... .......... ..........  3%  998K 7s\n",
      "   400K .......... .......... .......... .......... ..........  3% 66.7M 6s\n",
      "   450K .......... .......... .......... .......... ..........  3% 75.3M 5s\n",
      "   500K .......... .......... .......... .......... ..........  4%  131M 5s\n",
      "   550K .......... .......... .......... .......... ..........  4%  175M 4s\n",
      "   600K .......... .......... .......... .......... ..........  4%  191M 4s\n",
      "   650K .......... .......... .......... .......... ..........  5%  171M 4s\n",
      "   700K .......... .......... .......... .......... ..........  5%  113M 4s\n",
      "   750K .......... .......... .......... .......... ..........  6%  117M 3s\n",
      "   800K .......... .......... .......... .......... ..........  6%  987K 4s\n",
      "   850K .......... .......... .......... .......... ..........  6% 93.0M 4s\n",
      "   900K .......... .......... .......... .......... ..........  7% 73.1M 3s\n",
      "   950K .......... .......... .......... .......... ..........  7% 91.9M 3s\n",
      "  1000K .......... .......... .......... .......... ..........  7%  133M 3s\n",
      "  1050K .......... .......... .......... .......... ..........  8%  126M 3s\n",
      "  1100K .......... .......... .......... .......... ..........  8%  120M 3s\n",
      "  1150K .......... .......... .......... .......... ..........  9%  179M 3s\n",
      "  1200K .......... .......... .......... .......... ..........  9%  191M 3s\n",
      "  1250K .......... .......... .......... .......... ..........  9%  128M 2s\n",
      "  1300K .......... .......... .......... .......... .......... 10%  117M 2s\n",
      "  1350K .......... .......... .......... .......... .......... 10%  120M 2s\n",
      "  1400K .......... .......... .......... .......... .......... 10%  141M 2s\n",
      "  1450K .......... .......... .......... .......... .......... 11%  134M 2s\n",
      "  1500K .......... .......... .......... .......... .......... 11%  122M 2s\n",
      "  1550K .......... .......... .......... .......... .......... 12%  145M 2s\n",
      "  1600K .......... .......... .......... .......... .......... 12%  168M 2s\n",
      "  1650K .......... .......... .......... .......... .......... 12% 1.10M 2s\n",
      "  1700K .......... .......... .......... .......... .......... 13% 36.8M 2s\n",
      "  1750K .......... .......... .......... .......... .......... 13%  123M 2s\n",
      "  1800K .......... .......... .......... .......... .......... 13%  200M 2s\n",
      "  1850K .......... .......... .......... .......... .......... 14%  216M 2s\n",
      "  1900K .......... .......... .......... .......... .......... 14%  234M 2s\n",
      "  1950K .......... .......... .......... .......... .......... 15%  190M 2s\n",
      "  2000K .......... .......... .......... .......... .......... 15%  196M 2s\n",
      "  2050K .......... .......... .......... .......... .......... 15%  123M 2s\n",
      "  2100K .......... .......... .......... .......... .......... 16%  143M 2s\n",
      "  2150K .......... .......... .......... .......... .......... 16%  105M 2s\n",
      "  2200K .......... .......... .......... .......... .......... 16%  118M 2s\n",
      "  2250K .......... .......... .......... .......... .......... 17% 57.2M 2s\n",
      "  2300K .......... .......... .......... .......... .......... 17% 61.0M 1s\n",
      "  2350K .......... .......... .......... .......... .......... 18% 97.7M 1s\n",
      "  2400K .......... .......... .......... .......... .......... 18% 62.0M 1s\n",
      "  2450K .......... .......... .......... .......... .......... 18% 61.8M 1s\n",
      "  2500K .......... .......... .......... .......... .......... 19%  146M 1s\n",
      "  2550K .......... .......... .......... .......... .......... 19%  118M 1s\n",
      "  2600K .......... .......... .......... .......... .......... 20%  144M 1s\n",
      "  2650K .......... .......... .......... .......... .......... 20%  147M 1s\n",
      "  2700K .......... .......... .......... .......... .......... 20% 38.7M 1s\n",
      "  2750K .......... .......... .......... .......... .......... 21% 56.0M 1s\n",
      "  2800K .......... .......... .......... .......... .......... 21%  196M 1s\n",
      "  2850K .......... .......... .......... .......... .......... 21%  228M 1s\n",
      "  2900K .......... .......... .......... .......... .......... 22%  234M 1s\n",
      "  2950K .......... .......... .......... .......... .......... 22%  208M 1s\n",
      "  3000K .......... .......... .......... .......... .......... 23% 67.9M 1s\n",
      "  3050K .......... .......... .......... .......... .......... 23%  128M 1s\n",
      "  3100K .......... .......... .......... .......... .......... 23%  126M 1s\n",
      "  3150K .......... .......... .......... .......... .......... 24%  121M 1s\n",
      "  3200K .......... .......... .......... .......... .......... 24%  134M 1s\n",
      "  3250K .......... .......... .......... .......... .......... 24%  143M 1s\n",
      "  3300K .......... .......... .......... .......... .......... 25% 62.4M 1s\n",
      "  3350K .......... .......... .......... .......... .......... 25% 1.32M 1s\n",
      "  3400K .......... .......... .......... .......... .......... 26% 22.9M 1s\n",
      "  3450K .......... .......... .......... .......... .......... 26% 50.1M 1s\n",
      "  3500K .......... .......... .......... .......... .......... 26% 73.8M 1s\n",
      "  3550K .......... .......... .......... .......... .......... 27% 27.9M 1s\n",
      "  3600K .......... .......... .......... .......... .......... 27% 60.5M 1s\n",
      "  3650K .......... .......... .......... .......... .......... 27% 33.5M 1s\n",
      "  3700K .......... .......... .......... .......... .......... 28% 57.8M 1s\n",
      "  3750K .......... .......... .......... .......... .......... 28% 28.3M 1s\n",
      "  3800K .......... .......... .......... .......... .......... 29%  103M 1s\n",
      "  3850K .......... .......... .......... .......... .......... 29%  172M 1s\n",
      "  3900K .......... .......... .......... .......... .......... 29%  219M 1s\n",
      "  3950K .......... .......... .......... .......... .......... 30%  195M 1s\n",
      "  4000K .......... .......... .......... .......... .......... 30%  221M 1s\n",
      "  4050K .......... .......... .......... .......... .......... 30% 16.4M 1s\n",
      "  4100K .......... .......... .......... .......... .......... 31% 33.2M 1s\n",
      "  4150K .......... .......... .......... .......... .......... 31% 70.5M 1s\n",
      "  4200K .......... .......... .......... .......... .......... 32% 27.7M 1s\n",
      "  4250K .......... .......... .......... .......... .......... 32% 41.2M 1s\n",
      "  4300K .......... .......... .......... .......... .......... 32% 26.3M 1s\n",
      "  4350K .......... .......... .......... .......... .......... 33% 89.7M 1s\n",
      "  4400K .......... .......... .......... .......... .......... 33%  117M 1s\n",
      "  4450K .......... .......... .......... .......... .......... 33%  108M 1s\n",
      "  4500K .......... .......... .......... .......... .......... 34%  144M 1s\n",
      "  4550K .......... .......... .......... .......... .......... 34% 29.8M 1s\n",
      "  4600K .......... .......... .......... .......... .......... 35%  131M 1s\n",
      "  4650K .......... .......... .......... .......... .......... 35%  151M 1s\n",
      "  4700K .......... .......... .......... .......... .......... 35% 88.0M 1s\n",
      "  4750K .......... .......... .......... .......... .......... 36%  121M 1s\n",
      "  4800K .......... .......... .......... .......... .......... 36%  135M 1s\n",
      "  4850K .......... .......... .......... .......... .......... 36%  154M 1s\n",
      "  4900K .......... .......... .......... .......... .......... 37%  135M 1s\n",
      "  4950K .......... .......... .......... .......... .......... 37% 30.9M 1s\n",
      "  5000K .......... .......... .......... .......... .......... 38% 69.2M 1s\n",
      "  5050K .......... .......... .......... .......... .......... 38% 63.2M 1s\n",
      "  5100K .......... .......... .......... .......... .......... 38% 59.7M 1s\n",
      "  5150K .......... .......... .......... .......... .......... 39% 37.8M 1s\n",
      "  5200K .......... .......... .......... .......... .......... 39% 53.3M 1s\n",
      "  5250K .......... .......... .......... .......... .......... 40% 60.5M 1s\n",
      "  5300K .......... .......... .......... .......... .......... 40% 39.3M 1s\n",
      "  5350K .......... .......... .......... .......... .......... 40% 31.1M 1s\n",
      "  5400K .......... .......... .......... .......... .......... 41%  174M 1s\n",
      "  5450K .......... .......... .......... .......... .......... 41%  141M 1s\n",
      "  5500K .......... .......... .......... .......... .......... 41%  140M 1s\n",
      "  5550K .......... .......... .......... .......... .......... 42% 11.2M 1s\n",
      "  5600K .......... .......... .......... .......... .......... 42%  144M 1s\n",
      "  5650K .......... .......... .......... .......... .......... 43%  180M 1s\n",
      "  5700K .......... .......... .......... .......... .......... 43%  181M 1s\n",
      "  5750K .......... .......... .......... .......... .......... 43%  127M 1s\n",
      "  5800K .......... .......... .......... .......... .......... 44%  141M 1s\n",
      "  5850K .......... .......... .......... .......... .......... 44%  149M 1s\n",
      "  5900K .......... .......... .......... .......... .......... 44% 31.5M 1s\n",
      "  5950K .......... .......... .......... .......... .......... 45% 53.0M 0s\n",
      "  6000K .......... .......... .......... .......... .......... 45%  143M 0s\n",
      "  6050K .......... .......... .......... .......... .......... 46%  132M 0s\n",
      "  6100K .......... .......... .......... .......... .......... 46% 15.2M 0s\n",
      "  6150K .......... .......... .......... .......... .......... 46%  142M 0s\n",
      "  6200K .......... .......... .......... .......... .......... 47%  177M 0s\n",
      "  6250K .......... .......... .......... .......... .......... 47%  156M 0s\n",
      "  6300K .......... .......... .......... .......... .......... 47%  158M 0s\n",
      "  6350K .......... .......... .......... .......... .......... 48%  152M 0s\n",
      "  6400K .......... .......... .......... .......... .......... 48% 24.3M 0s\n",
      "  6450K .......... .......... .......... .......... .......... 49%  161M 0s\n",
      "  6500K .......... .......... .......... .......... .......... 49%  150M 0s\n",
      "  6550K .......... .......... .......... .......... .......... 49%  129M 0s\n",
      "  6600K .......... .......... .......... .......... .......... 50%  130M 0s\n",
      "  6650K .......... .......... .......... .......... .......... 50%  145M 0s\n",
      "  6700K .......... .......... .......... .......... .......... 50%  152M 0s\n",
      "  6750K .......... .......... .......... .......... .......... 51% 12.9M 0s\n",
      "  6800K .......... .......... .......... .......... .......... 51%  126M 0s\n",
      "  6850K .......... .......... .......... .......... .......... 52%  144M 0s\n",
      "  6900K .......... .......... .......... .......... .......... 52% 43.1M 0s\n",
      "  6950K .......... .......... .......... .......... .......... 52% 54.1M 0s\n",
      "  7000K .......... .......... .......... .......... .......... 53% 30.7M 0s\n",
      "  7050K .......... .......... .......... .......... .......... 53%  102M 0s\n",
      "  7100K .......... .......... .......... .......... .......... 53%  160M 0s\n",
      "  7150K .......... .......... .......... .......... .......... 54%  157M 0s\n",
      "  7200K .......... .......... .......... .......... .......... 54%  211M 0s\n",
      "  7250K .......... .......... .......... .......... .......... 55%  214M 0s\n",
      "  7300K .......... .......... .......... .......... .......... 55%  206M 0s\n",
      "  7350K .......... .......... .......... .......... .......... 55% 50.5M 0s\n",
      "  7400K .......... .......... .......... .......... .......... 56% 90.3M 0s\n",
      "  7450K .......... .......... .......... .......... .......... 56% 43.4M 0s\n",
      "  7500K .......... .......... .......... .......... .......... 56%  213M 0s\n",
      "  7550K .......... .......... .......... .......... .......... 57% 35.1M 0s\n",
      "  7600K .......... .......... .......... .......... .......... 57%  152M 0s\n",
      "  7650K .......... .......... .......... .......... .......... 58%  166M 0s\n",
      "  7700K .......... .......... .......... .......... .......... 58% 64.0M 0s\n",
      "  7750K .......... .......... .......... .......... .......... 58% 39.9M 0s\n",
      "  7800K .......... .......... .......... .......... .......... 59%  146M 0s\n",
      "  7850K .......... .......... .......... .......... .......... 59% 35.6M 0s\n",
      "  7900K .......... .......... .......... .......... .......... 60%  173M 0s\n",
      "  7950K .......... .......... .......... .......... .......... 60% 42.3M 0s\n",
      "  8000K .......... .......... .......... .......... .......... 60% 3.37M 0s\n",
      "  8050K .......... .......... .......... .......... .......... 61%  225M 0s\n",
      "  8100K .......... .......... .......... .......... .......... 61%  220M 0s\n",
      "  8150K .......... .......... .......... .......... .......... 61%  177M 0s\n",
      "  8200K .......... .......... .......... .......... .......... 62%  206M 0s\n",
      "  8250K .......... .......... .......... .......... .......... 62%  223M 0s\n",
      "  8300K .......... .......... .......... .......... .......... 63%  218M 0s\n",
      "  8350K .......... .......... .......... .......... .......... 63%  133M 0s\n",
      "  8400K .......... .......... .......... .......... .......... 63%  142M 0s\n",
      "  8450K .......... .......... .......... .......... .......... 64%  174M 0s\n",
      "  8500K .......... .......... .......... .......... .......... 64% 76.5M 0s\n",
      "  8550K .......... .......... .......... .......... .......... 64%  140M 0s\n",
      "  8600K .......... .......... .......... .......... .......... 65%  166M 0s\n",
      "  8650K .......... .......... .......... .......... .......... 65% 64.7M 0s\n",
      "  8700K .......... .......... .......... .......... .......... 66%  167M 0s\n",
      "  8750K .......... .......... .......... .......... .......... 66%  133M 0s\n",
      "  8800K .......... .......... .......... .......... .......... 66%  133M 0s\n",
      "  8850K .......... .......... .......... .......... .......... 67% 69.3M 0s\n",
      "  8900K .......... .......... .......... .......... .......... 67%  153M 0s\n",
      "  8950K .......... .......... .......... .......... .......... 67%  122M 0s\n",
      "  9000K .......... .......... .......... .......... .......... 68%  159M 0s\n",
      "  9050K .......... .......... .......... .......... .......... 68%  153M 0s\n",
      "  9100K .......... .......... .......... .......... .......... 69% 48.4M 0s\n",
      "  9150K .......... .......... .......... .......... .......... 69%  120M 0s\n",
      "  9200K .......... .......... .......... .......... .......... 69%  149M 0s\n",
      "  9250K .......... .......... .......... .......... .......... 70%  152M 0s\n",
      "  9300K .......... .......... .......... .......... .......... 70%  144M 0s\n",
      "  9350K .......... .......... .......... .......... .......... 70%  135M 0s\n",
      "  9400K .......... .......... .......... .......... .......... 71%  159M 0s\n",
      "  9450K .......... .......... .......... .......... .......... 71% 13.1M 0s\n",
      "  9500K .......... .......... .......... .......... .......... 72%  149M 0s\n",
      "  9550K .......... .......... .......... .......... .......... 72%  127M 0s\n",
      "  9600K .......... .......... .......... .......... .......... 72%  179M 0s\n",
      "  9650K .......... .......... .......... .......... .......... 73%  231M 0s\n",
      "  9700K .......... .......... .......... .......... .......... 73% 20.6M 0s\n",
      "  9750K .......... .......... .......... .......... .......... 73%  144M 0s\n",
      "  9800K .......... .......... .......... .......... .......... 74%  166M 0s\n",
      "  9850K .......... .......... .......... .......... .......... 74%  145M 0s\n",
      "  9900K .......... .......... .......... .......... .......... 75%  163M 0s\n",
      "  9950K .......... .......... .......... .......... .......... 75%  192M 0s\n",
      " 10000K .......... .......... .......... .......... .......... 75%  232M 0s\n",
      " 10050K .......... .......... .......... .......... .......... 76% 27.7M 0s\n",
      " 10100K .......... .......... .......... .......... .......... 76%  135M 0s\n",
      " 10150K .......... .......... .......... .......... .......... 76%  145M 0s\n",
      " 10200K .......... .......... .......... .......... .......... 77% 44.9M 0s\n",
      " 10250K .......... .......... .......... .......... .......... 77%  155M 0s\n",
      " 10300K .......... .......... .......... .......... .......... 78%  143M 0s\n",
      " 10350K .......... .......... .......... .......... .......... 78% 43.3M 0s\n",
      " 10400K .......... .......... .......... .......... .......... 78%  167M 0s\n",
      " 10450K .......... .......... .......... .......... .......... 79% 48.6M 0s\n",
      " 10500K .......... .......... .......... .......... .......... 79% 73.0M 0s\n",
      " 10550K .......... .......... .......... .......... .......... 80% 82.5M 0s\n",
      " 10600K .......... .......... .......... .......... .......... 80% 14.8M 0s\n",
      " 10650K .......... .......... .......... .......... .......... 80%  151M 0s\n",
      " 10700K .......... .......... .......... .......... .......... 81%  158M 0s\n",
      " 10750K .......... .......... .......... .......... .......... 81% 20.4M 0s\n",
      " 10800K .......... .......... .......... .......... .......... 81%  150M 0s\n",
      " 10850K .......... .......... .......... .......... .......... 82%  174M 0s\n",
      " 10900K .......... .......... .......... .......... .......... 82%  139M 0s\n",
      " 10950K .......... .......... .......... .......... .......... 83%  132M 0s\n",
      " 11000K .......... .......... .......... .......... .......... 83%  142M 0s\n",
      " 11050K .......... .......... .......... .......... .......... 83% 10.4M 0s\n",
      " 11100K .......... .......... .......... .......... .......... 84% 4.08M 0s\n",
      " 11150K .......... .......... .......... .......... .......... 84% 64.5M 0s\n",
      " 11200K .......... .......... .......... .......... .......... 84%  159M 0s\n",
      " 11250K .......... .......... .......... .......... .......... 85%  191M 0s\n",
      " 11300K .......... .......... .......... .......... .......... 85%  197M 0s\n",
      " 11350K .......... .......... .......... .......... .......... 86%  202M 0s\n",
      " 11400K .......... .......... .......... .......... .......... 86%  185M 0s\n",
      " 11450K .......... .......... .......... .......... .......... 86%  233M 0s\n",
      " 11500K .......... .......... .......... .......... .......... 87%  228M 0s\n",
      " 11550K .......... .......... .......... .......... .......... 87%  117M 0s\n",
      " 11600K .......... .......... .......... .......... .......... 87%  157M 0s\n",
      " 11650K .......... .......... .......... .......... .......... 88%  151M 0s\n",
      " 11700K .......... .......... .......... .......... .......... 88%  142M 0s\n",
      " 11750K .......... .......... .......... .......... .......... 89%  131M 0s\n",
      " 11800K .......... .......... .......... .......... .......... 89%  141M 0s\n",
      " 11850K .......... .......... .......... .......... .......... 89%  146M 0s\n",
      " 11900K .......... .......... .......... .......... .......... 90%  144M 0s\n",
      " 11950K .......... .......... .......... .......... .......... 90% 34.9M 0s\n",
      " 12000K .......... .......... .......... .......... .......... 90%  160M 0s\n",
      " 12050K .......... .......... .......... .......... .......... 91%  208M 0s\n",
      " 12100K .......... .......... .......... .......... .......... 91%  201M 0s\n",
      " 12150K .......... .......... .......... .......... .......... 92% 39.9M 0s\n",
      " 12200K .......... .......... .......... .......... .......... 92%  175M 0s\n",
      " 12250K .......... .......... .......... .......... .......... 92%  153M 0s\n",
      " 12300K .......... .......... .......... .......... .......... 93%  198M 0s\n",
      " 12350K .......... .......... .......... .......... .......... 93%  192M 0s\n",
      " 12400K .......... .......... .......... .......... .......... 93%  231M 0s\n",
      " 12450K .......... .......... .......... .......... .......... 94%  233M 0s\n",
      " 12500K .......... .......... .......... .......... .......... 94%  234M 0s\n",
      " 12550K .......... .......... .......... .......... .......... 95% 10.2M 0s\n",
      " 12600K .......... .......... .......... .......... .......... 95% 19.3M 0s\n",
      " 12650K .......... .......... .......... .......... .......... 95%  106M 0s\n",
      " 12700K .......... .......... .......... .......... .......... 96% 51.6M 0s\n",
      " 12750K .......... .......... .......... .......... .......... 96% 68.3M 0s\n",
      " 12800K .......... .......... .......... .......... .......... 96% 26.7M 0s\n",
      " 12850K .......... .......... .......... .......... .......... 97% 92.4M 0s\n",
      " 12900K .......... .......... .......... .......... .......... 97% 20.6M 0s\n",
      " 12950K .......... .......... .......... .......... .......... 98%  152M 0s\n",
      " 13000K .......... .......... .......... .......... .......... 98%  190M 0s\n",
      " 13050K .......... .......... .......... .......... .......... 98%  189M 0s\n",
      " 13100K .......... .......... .......... .......... .......... 99% 20.3M 0s\n",
      " 13150K .......... .......... .......... .......... .......... 99% 41.9M 0s\n",
      " 13200K .......... .......... .......... .......... .......   100% 49.5M=0.5s\n",
      "\n",
      "2025-04-01 23:29:51 (24.0 MB/s) - ‘jena_climate_2009_2016.csv.zip’ saved [13565642/13565642]\n",
      "\n"
     ]
    },
    {
     "name": "stdout",
     "output_type": "stream",
     "text": [
      "Archive:  jena_climate_2009_2016.csv.zip\n",
      "  inflating: jena_climate_2009_2016.csv  \n",
      "  inflating: __MACOSX/._jena_climate_2009_2016.csv  \n"
     ]
    }
   ],
   "source": [
    "%%bash\n",
    "mkdir jena_climate\n",
    "cd jena_climate\n",
    "wget https://s3.amazonaws.com/keras-datasets/jena_climate_2009_2016.csv.zip\n",
    "unzip jena_climate_2009_2016.csv.zip"
   ]
  },
  {
   "cell_type": "markdown",
   "metadata": {
    "id": "dSx_YccHWled"
   },
   "source": [
    "By the way, the following code is a modified version of the code that can be found in [1]. That said, let us begin by importing some useful libraries and modules."
   ]
  },
  {
   "cell_type": "code",
   "execution_count": 2,
   "metadata": {
    "id": "6W8aBhMJZ5lE"
   },
   "outputs": [
    {
     "name": "stderr",
     "output_type": "stream",
     "text": [
      "2025-04-01 23:30:02.162806: I external/local_xla/xla/tsl/cuda/cudart_stub.cc:32] Could not find cuda drivers on your machine, GPU will not be used.\n",
      "2025-04-01 23:30:02.422373: I external/local_xla/xla/tsl/cuda/cudart_stub.cc:32] Could not find cuda drivers on your machine, GPU will not be used.\n",
      "2025-04-01 23:30:02.536350: E external/local_xla/xla/stream_executor/cuda/cuda_fft.cc:467] Unable to register cuFFT factory: Attempting to register factory for plugin cuFFT when one has already been registered\n",
      "WARNING: All log messages before absl::InitializeLog() is called are written to STDERR\n",
      "E0000 00:00:1743550202.812130   11767 cuda_dnn.cc:8579] Unable to register cuDNN factory: Attempting to register factory for plugin cuDNN when one has already been registered\n",
      "E0000 00:00:1743550202.907513   11767 cuda_blas.cc:1407] Unable to register cuBLAS factory: Attempting to register factory for plugin cuBLAS when one has already been registered\n",
      "W0000 00:00:1743550203.553576   11767 computation_placer.cc:177] computation placer already registered. Please check linkage and avoid linking the same target more than once.\n",
      "W0000 00:00:1743550203.553613   11767 computation_placer.cc:177] computation placer already registered. Please check linkage and avoid linking the same target more than once.\n",
      "W0000 00:00:1743550203.553616   11767 computation_placer.cc:177] computation placer already registered. Please check linkage and avoid linking the same target more than once.\n",
      "W0000 00:00:1743550203.553619   11767 computation_placer.cc:177] computation placer already registered. Please check linkage and avoid linking the same target more than once.\n",
      "2025-04-01 23:30:03.578319: I tensorflow/core/platform/cpu_feature_guard.cc:210] This TensorFlow binary is optimized to use available CPU instructions in performance-critical operations.\n",
      "To enable the following instructions: AVX2 FMA, in other operations, rebuild TensorFlow with the appropriate compiler flags.\n"
     ]
    }
   ],
   "source": [
    "import os\n",
    "import numpy as np\n",
    "import matplotlib.pyplot as plt\n",
    "\n",
    "from matplotlib import pyplot as plt\n",
    "from tensorflow import keras\n",
    "from tensorflow.keras import layers"
   ]
  },
  {
   "cell_type": "markdown",
   "metadata": {
    "id": "Ra6c0_-HZ5lE"
   },
   "source": [
    "The following lines of code will open the `csv` file that was downloaded and store that information in the variable named `data`."
   ]
  },
  {
   "cell_type": "code",
   "execution_count": 5,
   "metadata": {
    "colab": {
     "base_uri": "https://localhost:8080/"
    },
    "id": "LB7vqC3SWled",
    "outputId": "557e562a-8bdb-40ad-c62d-897d153c9826"
   },
   "outputs": [
    {
     "name": "stdout",
     "output_type": "stream",
     "text": [
      "['\"Date Time\"', '\"p (mbar)\"', '\"T (degC)\"', '\"Tpot (K)\"', '\"Tdew (degC)\"', '\"rh (%)\"', '\"VPmax (mbar)\"', '\"VPact (mbar)\"', '\"VPdef (mbar)\"', '\"sh (g/kg)\"', '\"H2OC (mmol/mol)\"', '\"rho (g/m**3)\"', '\"wv (m/s)\"', '\"max. wv (m/s)\"', '\"wd (deg)\"']\n",
      "420451\n"
     ]
    }
   ],
   "source": [
    "data_dir = './jena_climate'\n",
    "fname = os.path.join(data_dir, \"jena_climate_2009_2016.csv\")\n",
    "\n",
    "with open(fname) as f:\n",
    "    data = f.read()\n",
    "\n",
    "lines = data.split(\"\\n\")\n",
    "header = lines[0].split(\",\")\n",
    "lines = lines[1:]\n",
    "print(header)\n",
    "print(len(lines))"
   ]
  },
  {
   "cell_type": "markdown",
   "metadata": {
    "id": "N5ASAQEFZ5lF"
   },
   "source": [
    "We can see that we're working with 14 variables and 420,551 registers. In the following cell, we'll create two `NumPy` arrays: one for the temperature variable (`temperature`), and another one for all the data (`raw_data`).  "
   ]
  },
  {
   "cell_type": "code",
   "execution_count": 6,
   "metadata": {
    "id": "XOprgXR3Wled"
   },
   "outputs": [],
   "source": [
    "temperature = np.zeros((len(lines),))\n",
    "raw_data = np.zeros((len(lines), len(header) - 1))\n",
    "for i, line in enumerate(lines):\n",
    "    values = [float(x) for x in line.split(\",\")[1:]]\n",
    "    temperature[i] = values[1]\n",
    "    raw_data[i, :] = values[:]"
   ]
  },
  {
   "cell_type": "markdown",
   "metadata": {
    "id": "0X04lh2GWlee"
   },
   "source": [
    "Here is the plot of temperature (in degrees Celsius) over time. On this plot, you can clearly see the yearly periodicity of temperature."
   ]
  },
  {
   "cell_type": "code",
   "execution_count": 7,
   "metadata": {
    "colab": {
     "base_uri": "https://localhost:8080/",
     "height": 451
    },
    "id": "y2ewHkpyWlee",
    "outputId": "f0c682ee-a84a-4531-dd90-0f90bc7bd3d8"
   },
   "outputs": [
    {
     "data": {
      "text/plain": [
       "[<matplotlib.lines.Line2D at 0x71bdb9fe4410>]"
      ]
     },
     "execution_count": 7,
     "metadata": {},
     "output_type": "execute_result"
    },
    {
     "data": {
      "image/png": "[encoded data removed]",
      "text/plain": [
       "<Figure size 640x480 with 1 Axes>"
      ]
     },
     "metadata": {},
     "output_type": "display_data"
    }
   ],
   "source": [
    "plt.plot(range(len(temperature)), temperature)"
   ]
  },
  {
   "cell_type": "markdown",
   "metadata": {
    "id": "g0S2ye1WWlee"
   },
   "source": [
    "By the way, it is recommended that you always look for periodicity in your data. Time series data usually have periodicity on different time scales, so it's important to find these patterns so that the models we train can learn them.\n",
    "\n",
    "In the next steps we'll allocate 50% of the data to training, 25% to validation and the remainder to testing. When dealing with time series data, it's important to ensure that the validation and test data sets are more recent than the training data. This is because our goal is to predict the future based on past observations, not to predict the past based on the future."
   ]
  },
  {
   "cell_type": "code",
   "execution_count": 8,
   "metadata": {
    "colab": {
     "base_uri": "https://localhost:8080/"
    },
    "id": "wInAPj2QWlee",
    "outputId": "e1dd33e3-01b8-4cff-e39d-839dbed8ac36"
   },
   "outputs": [
    {
     "name": "stdout",
     "output_type": "stream",
     "text": [
      "num_train_samples: 210225\n",
      "num_val_samples: 105112\n",
      "num_test_samples: 105114\n"
     ]
    }
   ],
   "source": [
    "num_train_samples = int(0.5 * len(raw_data))\n",
    "num_val_samples = int(0.25 * len(raw_data))\n",
    "num_test_samples = len(raw_data) - num_train_samples - num_val_samples\n",
    "print(\"num_train_samples:\", num_train_samples)\n",
    "print(\"num_val_samples:\", num_val_samples)\n",
    "print(\"num_test_samples:\", num_test_samples)"
   ]
  },
  {
   "cell_type": "markdown",
   "metadata": {
    "id": "XOoizdpSWlef"
   },
   "source": [
    "## Formulation of the problem\n",
    "\n",
    "The problem we will be solving goes as follows: given data going as far back as `sequence_length` timesteps (a timestep is 10 minutes) and sampled every `sampling_rate` timesteps, can we predict the temperature in `delay` timesteps? We will use the following parameter values:\n",
    "\n",
    "- `sequence_length`: 120—Observations will go back 5 days.\n",
    "- `sampling_rate`: 6—Observations will be sampled at one data point per hour.\n",
    "- `delay`: Targets will be 24 hours after the end of the sequence.\n",
    "\n",
    "## Preparing the data\n",
    "\n",
    "Each time series in the dataset operates on a different scale: for example, temperature typically ranges between -20 and +30, whereas atmospheric pressure, measured in mbar, hovers around 1,000. To deal with this, we'll normalize each time series independently, ensuring that they all have small values within a comparable scale."
   ]
  },
  {
   "cell_type": "code",
   "execution_count": 9,
   "metadata": {
    "id": "EXq06b7QWlef"
   },
   "outputs": [],
   "source": [
    "mean = raw_data[: num_train_samples].mean(axis=0)\n",
    "raw_data -= mean\n",
    "std = raw_data[: num_train_samples].std(axis=0)\n",
    "raw_data /= std"
   ]
  },
  {
   "cell_type": "markdown",
   "metadata": {
    "id": "eiQElr1TZ5lG"
   },
   "source": [
    "Next, we'll construct a `dataset` object that produces batches of data over the past five days, along with a target temperature for 24 hours into the future.\n",
    "\n",
    "As before, we could write a `Python` generator to do this, however, `Keras`  provides a handy built-in dataset utility (`timeseries_dataset_from_array()`). As expected, we'll use this utility to instantiate three datasets: one fore training, onf for validation, and one for testing."
   ]
  },
  {
   "cell_type": "code",
   "execution_count": 10,
   "metadata": {
    "id": "ECEUWOdjWlef"
   },
   "outputs": [
    {
     "name": "stderr",
     "output_type": "stream",
     "text": [
      "2025-04-01 23:33:15.424188: E external/local_xla/xla/stream_executor/cuda/cuda_platform.cc:51] failed call to cuInit: INTERNAL: CUDA error: Failed call to cuInit: UNKNOWN ERROR (303)\n"
     ]
    }
   ],
   "source": [
    "sampling_rate = 6\n",
    "sequence_length = 120\n",
    "delay = sampling_rate * (sequence_length + 24 - 1)\n",
    "batch_size = 256\n",
    "\n",
    "train_dataset = keras.utils.timeseries_dataset_from_array(\n",
    "    raw_data[:-delay],\n",
    "    targets=temperature[delay:],\n",
    "    sampling_rate=sampling_rate,\n",
    "    sequence_length=sequence_length,\n",
    "    shuffle=True,\n",
    "    batch_size=batch_size,\n",
    "    start_index=0,\n",
    "    end_index=num_train_samples)\n",
    "\n",
    "val_dataset = keras.utils.timeseries_dataset_from_array(\n",
    "    raw_data[:-delay],\n",
    "    targets=temperature[delay:],\n",
    "    sampling_rate=sampling_rate,\n",
    "    sequence_length=sequence_length,\n",
    "    shuffle=True,\n",
    "    batch_size=batch_size,\n",
    "    start_index=num_train_samples,\n",
    "    end_index=num_train_samples + num_val_samples)\n",
    "\n",
    "test_dataset = keras.utils.timeseries_dataset_from_array(\n",
    "    raw_data[:-delay],\n",
    "    targets=temperature[delay:],\n",
    "    sampling_rate=sampling_rate,\n",
    "    sequence_length=sequence_length,\n",
    "    shuffle=True,\n",
    "    batch_size=batch_size,\n",
    "    start_index=num_train_samples + num_val_samples)"
   ]
  },
  {
   "cell_type": "markdown",
   "metadata": {
    "id": "EsWTAifeWlef"
   },
   "source": [
    "Every dataset provides a tuple (`samples`, `targets`), where samples represent a batch of 256 samples. Each `sample` comprises 120 consecutive hours of input data, while `targets` consist of the corresponding array of 256 target temperatures. It's important to note that the samples are shuffled randomly, meaning that two consecutive sequences in a batch (such as `samples[0]` and `samples[1]`) may not be temporally adjacent.\n",
    "\n",
    "## A common-sense baseline\n",
    "\n",
    "In this scenario, we can reasonably assume that the temperature timeseries is continuous (tomorrow's temperatures are expected to be similar to today's) and periodic, with a daily cycle. Therefore, a straightforward approach is to predict that the temperature 24 hours from now will be the same as the current temperature. We'll assess this method using the mean absolute error (MAE) metric."
   ]
  },
  {
   "cell_type": "code",
   "execution_count": 11,
   "metadata": {
    "colab": {
     "base_uri": "https://localhost:8080/"
    },
    "id": "4VLZ2ZpdWleg",
    "outputId": "b12b5430-fa30-455b-f5d0-a4633f55eb99"
   },
   "outputs": [
    {
     "name": "stderr",
     "output_type": "stream",
     "text": [
      "2025-04-01 23:33:31.255208: I tensorflow/core/framework/local_rendezvous.cc:407] Local rendezvous is aborting with status: OUT_OF_RANGE: End of sequence\n"
     ]
    },
    {
     "name": "stdout",
     "output_type": "stream",
     "text": [
      "Validation MAE: 2.44\n",
      "Test MAE: 2.62\n"
     ]
    },
    {
     "name": "stderr",
     "output_type": "stream",
     "text": [
      "2025-04-01 23:33:41.836394: I tensorflow/core/framework/local_rendezvous.cc:407] Local rendezvous is aborting with status: OUT_OF_RANGE: End of sequence\n"
     ]
    }
   ],
   "source": [
    "def evaluate_naive_method(dataset):\n",
    "\n",
    "    total_abs_err = 0.\n",
    "    samples_seen = 0\n",
    "\n",
    "    for samples, targets in dataset:\n",
    "        preds = samples[:, -1, 1] * std[1] + mean[1]\n",
    "        total_abs_err += np.sum(np.abs(preds - targets))\n",
    "        samples_seen += samples.shape[0]\n",
    "\n",
    "    return total_abs_err / samples_seen\n",
    "\n",
    "print(f\"Validation MAE: {evaluate_naive_method(val_dataset):.2f}\")\n",
    "print(f\"Test MAE: {evaluate_naive_method(test_dataset):.2f}\")"
   ]
  },
  {
   "cell_type": "markdown",
   "metadata": {
    "id": "DCxnzB4JWleg"
   },
   "source": [
    "This simple baseline results in a validation MAE of 2.44 degrees Celsius and a test MAE of 2.62 degrees Celsius. Therefore, predicting that the temperature 24 hours ahead will be identical to the current temperature leads to an average error of around two and a half degrees. This said, we'd expect our models to do better than this.  "
   ]
  },
  {
   "cell_type": "markdown",
   "metadata": {
    "id": "kLgl4WDWWleg"
   },
   "source": [
    "## 1D convolutional model\n",
    "\n",
    "Regarding harnessing appropriate architectural priors, given that our input sequences exhibit daily cycles, it's worth considering a convolutional model. A temporal convolutional network could effectively reuse representations across different days, similar to how a spatial convolutional network can reuse representations across distinct locations in an image.\n",
    "\n",
    "Most likely, if you have worked with images and neural networks, you're already familiar with `Conv2D` and `SeparableConv2D` layers, which process inputs using small sliding windows over 2D grids. Additionally, there are 1D and even 3D versions of these layers: `Conv1D`, `SeparableConv1D`, and `Conv3D`. The `Conv1D` layer operates with 1D sliding windows over input sequences, while the `Conv3D` layer employs cubic windows across input volumes.\n",
    "\n",
    "Following the *translation invariance assumption*, it makes sense to construct 1D convolutional networks, analogous to their 2D counterparts, which are well-suited for sequence data . This assumption implies that the properties within a window remain consistent regardless of its position within the sequence.\n",
    "\n",
    "We'll begin with an initial window length of 24, enabling us to analyze 24 hours of data in each cycle. As we downsample the sequences using `MaxPooling1D` layers, we'll adjust the window size accordingly."
   ]
  },
  {
   "cell_type": "code",
   "execution_count": 12,
   "metadata": {
    "colab": {
     "base_uri": "https://localhost:8080/"
    },
    "id": "CwD7U8qpWleg",
    "outputId": "1968b8b9-e5f9-41e2-b512-ec7388c1e800"
   },
   "outputs": [
    {
     "name": "stdout",
     "output_type": "stream",
     "text": [
      "Epoch 1/10\n"
     ]
    },
    {
     "name": "stderr",
     "output_type": "stream",
     "text": [
      "2025-04-01 23:36:11.105434: W external/local_xla/xla/tsl/framework/cpu_allocator_impl.cc:83] Allocation of 23545200 exceeds 10% of free system memory.\n"
     ]
    },
    {
     "name": "stdout",
     "output_type": "stream",
     "text": [
      "\u001b[1m  5/819\u001b[0m \u001b[37m━━━━━━━━━━━━━━━━━━━━\u001b[0m \u001b[1m30s\u001b[0m 37ms/step - loss: 98.1927 - mae: 8.1862 "
     ]
    },
    {
     "name": "stderr",
     "output_type": "stream",
     "text": [
      "2025-04-01 23:36:12.155593: W external/local_xla/xla/tsl/framework/cpu_allocator_impl.cc:83] Allocation of 24210432 exceeds 10% of free system memory.\n",
      "2025-04-01 23:36:12.155686: W external/local_xla/xla/tsl/framework/cpu_allocator_impl.cc:83] Allocation of 24210432 exceeds 10% of free system memory.\n",
      "2025-04-01 23:36:12.159109: W external/local_xla/xla/tsl/framework/cpu_allocator_impl.cc:83] Allocation of 28550592 exceeds 10% of free system memory.\n",
      "2025-04-01 23:36:12.184314: W external/local_xla/xla/tsl/framework/cpu_allocator_impl.cc:83] Allocation of 24210432 exceeds 10% of free system memory.\n"
     ]
    },
    {
     "name": "stdout",
     "output_type": "stream",
     "text": [
      "\u001b[1m819/819\u001b[0m \u001b[32m━━━━━━━━━━━━━━━━━━━━\u001b[0m\u001b[37m\u001b[0m \u001b[1m52s\u001b[0m 62ms/step - loss: 27.6784 - mae: 4.0997 - val_loss: 15.3910 - val_mae: 3.1193\n",
      "Epoch 2/10\n",
      "\u001b[1m819/819\u001b[0m \u001b[32m━━━━━━━━━━━━━━━━━━━━\u001b[0m\u001b[37m\u001b[0m \u001b[1m50s\u001b[0m 61ms/step - loss: 15.9557 - mae: 3.1801 - val_loss: 15.0377 - val_mae: 3.0523\n",
      "Epoch 3/10\n",
      "\u001b[1m819/819\u001b[0m \u001b[32m━━━━━━━━━━━━━━━━━━━━\u001b[0m\u001b[37m\u001b[0m \u001b[1m51s\u001b[0m 62ms/step - loss: 14.7676 - mae: 3.0562 - val_loss: 15.2321 - val_mae: 3.0508\n",
      "Epoch 4/10\n",
      "\u001b[1m819/819\u001b[0m \u001b[32m━━━━━━━━━━━━━━━━━━━━\u001b[0m\u001b[37m\u001b[0m \u001b[1m50s\u001b[0m 61ms/step - loss: 13.9854 - mae: 2.9709 - val_loss: 14.9016 - val_mae: 3.0383\n",
      "Epoch 5/10\n",
      "\u001b[1m819/819\u001b[0m \u001b[32m━━━━━━━━━━━━━━━━━━━━\u001b[0m\u001b[37m\u001b[0m \u001b[1m50s\u001b[0m 60ms/step - loss: 13.4306 - mae: 2.9091 - val_loss: 15.0712 - val_mae: 3.0257\n",
      "Epoch 6/10\n",
      "\u001b[1m819/819\u001b[0m \u001b[32m━━━━━━━━━━━━━━━━━━━━\u001b[0m\u001b[37m\u001b[0m \u001b[1m82s\u001b[0m 60ms/step - loss: 12.8230 - mae: 2.8377 - val_loss: 14.7565 - val_mae: 3.0163\n",
      "Epoch 7/10\n",
      "\u001b[1m819/819\u001b[0m \u001b[32m━━━━━━━━━━━━━━━━━━━━\u001b[0m\u001b[37m\u001b[0m \u001b[1m82s\u001b[0m 60ms/step - loss: 12.3379 - mae: 2.7806 - val_loss: 15.4396 - val_mae: 3.0540\n",
      "Epoch 8/10\n",
      "\u001b[1m819/819\u001b[0m \u001b[32m━━━━━━━━━━━━━━━━━━━━\u001b[0m\u001b[37m\u001b[0m \u001b[1m50s\u001b[0m 61ms/step - loss: 11.9525 - mae: 2.7348 - val_loss: 14.7353 - val_mae: 2.9909\n",
      "Epoch 9/10\n",
      "\u001b[1m819/819\u001b[0m \u001b[32m━━━━━━━━━━━━━━━━━━━━\u001b[0m\u001b[37m\u001b[0m \u001b[1m49s\u001b[0m 60ms/step - loss: 11.5677 - mae: 2.6901 - val_loss: 15.1297 - val_mae: 3.0324\n",
      "Epoch 10/10\n",
      "\u001b[1m819/819\u001b[0m \u001b[32m━━━━━━━━━━━━━━━━━━━━\u001b[0m\u001b[37m\u001b[0m \u001b[1m49s\u001b[0m 59ms/step - loss: 11.3598 - mae: 2.6653 - val_loss: 16.9460 - val_mae: 3.2090\n",
      "\u001b[1m405/405\u001b[0m \u001b[32m━━━━━━━━━━━━━━━━━━━━\u001b[0m\u001b[37m\u001b[0m \u001b[1m14s\u001b[0m 33ms/step - loss: 15.6792 - mae: 3.1014\n",
      "Test MAE: 3.10\n"
     ]
    }
   ],
   "source": [
    "inputs = keras.Input(shape=(sequence_length, raw_data.shape[-1]))\n",
    "x = layers.Conv1D(8, 24, activation=\"relu\")(inputs)\n",
    "x = layers.MaxPooling1D(2)(x)\n",
    "x = layers.Conv1D(8, 12, activation=\"relu\")(x)\n",
    "x = layers.MaxPooling1D(2)(x)\n",
    "x = layers.Conv1D(8, 6, activation=\"relu\")(x)\n",
    "x = layers.GlobalAveragePooling1D()(x)\n",
    "outputs = layers.Dense(1)(x)\n",
    "model = keras.Model(inputs, outputs)\n",
    "\n",
    "callbacks = [keras.callbacks.ModelCheckpoint(\"jena_conv.keras\", save_best_only=True)]\n",
    "\n",
    "model.compile(optimizer=\"rmsprop\", loss=\"mse\", metrics=[\"mae\"])\n",
    "history = model.fit(train_dataset, epochs=10, validation_data=val_dataset, callbacks=callbacks)\n",
    "\n",
    "model = keras.models.load_model(\"jena_conv.keras\")\n",
    "print(f\"Test MAE: {model.evaluate(test_dataset)[1]:.2f}\")"
   ]
  },
  {
   "cell_type": "code",
   "execution_count": 13,
   "metadata": {
    "colab": {
     "base_uri": "https://localhost:8080/",
     "height": 452
    },
    "id": "y76ZdPNuWleg",
    "outputId": "75b2e9a1-23b0-43c2-afcd-03d7a1d5b6ee"
   },
   "outputs": [
    {
     "data": {
      "image/png": "[encoded data removed]",
      "text/plain": [
       "<Figure size 640x480 with 1 Axes>"
      ]
     },
     "metadata": {},
     "output_type": "display_data"
    }
   ],
   "source": [
    "loss = history.history[\"mae\"]\n",
    "val_loss = history.history[\"val_mae\"]\n",
    "epochs = range(1, len(loss) + 1)\n",
    "plt.figure()\n",
    "plt.plot(epochs, loss, \"bo\", label=\"Training MAE\")\n",
    "plt.plot(epochs, val_loss, \"b\", label=\"Validation MAE\")\n",
    "plt.title(\"Training and validation MAE\")\n",
    "plt.legend()\n",
    "plt.show()"
   ]
  },
  {
   "cell_type": "markdown",
   "metadata": {
    "id": "7zspc1saWleh"
   },
   "source": [
    "Unfortunately, this model only achieves a validation MAE of approximately 2.9 degrees, which is significantly higher than the common-sense baseline. Two main factors are causing this result:\n",
    "\n",
    "- Firstly, weather data doesn't adhere well to the translation invariance assumption. Although it exhibits daily cycles, the characteristics of morning data differ from those of evening or night time data. Weather data only exhibits translation invariance on a specific timescale.\n",
    "\n",
    "- Secondly, the order of our data is crucial. Recent data is much more informative for predicting the temperature of the following day compared to data from several days prior. A 1D convolutional network is unable to leverage this importance of chronological order. Specifically, our max pooling and global average pooling layers are largely eliminating crucial order information."
   ]
  },
  {
   "cell_type": "markdown",
   "metadata": {
    "id": "fSXYJueWWleh"
   },
   "source": [
    "## A simple LSTM-based model\n",
    "\n",
    "As you may be aware, there exists a category of neural network architectures tailored for sequential data, known as *Recurrent Neural Networks* (RNNs). Within this family, the *Long Short Term Memory* (LSTM) layer has gained considerable popularity over time. Let's experiment with incorporating the LSTM layer into our model."
   ]
  },
  {
   "cell_type": "code",
   "execution_count": 14,
   "metadata": {
    "colab": {
     "base_uri": "https://localhost:8080/"
    },
    "id": "BeJwuSGgWleh",
    "outputId": "2f1182f6-1edf-44fe-958f-7a8a0f9c06ed"
   },
   "outputs": [
    {
     "name": "stdout",
     "output_type": "stream",
     "text": [
      "Epoch 1/10\n",
      "\u001b[1m818/819\u001b[0m \u001b[32m━━━━━━━━━━━━━━━━━━━\u001b[0m\u001b[37m━\u001b[0m \u001b[1m0s\u001b[0m 56ms/step - loss: 74.3911 - mae: 6.6141"
     ]
    },
    {
     "name": "stdout",
     "output_type": "stream",
     "text": [
      "\u001b[1m819/819\u001b[0m \u001b[32m━━━━━━━━━━━━━━━━━━━━\u001b[0m\u001b[37m\u001b[0m \u001b[1m63s\u001b[0m 75ms/step - loss: 74.3165 - mae: 6.6098 - val_loss: 12.8358 - val_mae: 2.7064\n",
      "Epoch 2/10\n",
      "\u001b[1m819/819\u001b[0m \u001b[32m━━━━━━━━━━━━━━━━━━━━\u001b[0m\u001b[37m\u001b[0m \u001b[1m63s\u001b[0m 76ms/step - loss: 11.9845 - mae: 2.6733 - val_loss: 9.7350 - val_mae: 2.4117\n",
      "Epoch 3/10\n",
      "\u001b[1m819/819\u001b[0m \u001b[32m━━━━━━━━━━━━━━━━━━━━\u001b[0m\u001b[37m\u001b[0m \u001b[1m61s\u001b[0m 74ms/step - loss: 10.0063 - mae: 2.4637 - val_loss: 9.3600 - val_mae: 2.3634\n",
      "Epoch 4/10\n",
      "\u001b[1m819/819\u001b[0m \u001b[32m━━━━━━━━━━━━━━━━━━━━\u001b[0m\u001b[37m\u001b[0m \u001b[1m62s\u001b[0m 76ms/step - loss: 9.4289 - mae: 2.3853 - val_loss: 9.6537 - val_mae: 2.4021\n",
      "Epoch 5/10\n",
      "\u001b[1m819/819\u001b[0m \u001b[32m━━━━━━━━━━━━━━━━━━━━\u001b[0m\u001b[37m\u001b[0m \u001b[1m62s\u001b[0m 76ms/step - loss: 9.0670 - mae: 2.3382 - val_loss: 9.4963 - val_mae: 2.3920\n",
      "Epoch 6/10\n",
      "\u001b[1m819/819\u001b[0m \u001b[32m━━━━━━━━━━━━━━━━━━━━\u001b[0m\u001b[37m\u001b[0m \u001b[1m60s\u001b[0m 73ms/step - loss: 8.7723 - mae: 2.3006 - val_loss: 9.8796 - val_mae: 2.4453\n",
      "Epoch 7/10\n",
      "\u001b[1m819/819\u001b[0m \u001b[32m━━━━━━━━━━━━━━━━━━━━\u001b[0m\u001b[37m\u001b[0m \u001b[1m61s\u001b[0m 74ms/step - loss: 8.5020 - mae: 2.2669 - val_loss: 9.6894 - val_mae: 2.4269\n",
      "Epoch 8/10\n",
      "\u001b[1m819/819\u001b[0m \u001b[32m━━━━━━━━━━━━━━━━━━━━\u001b[0m\u001b[37m\u001b[0m \u001b[1m60s\u001b[0m 73ms/step - loss: 8.3118 - mae: 2.2412 - val_loss: 9.7686 - val_mae: 2.4346\n",
      "Epoch 9/10\n",
      "\u001b[1m819/819\u001b[0m \u001b[32m━━━━━━━━━━━━━━━━━━━━\u001b[0m\u001b[37m\u001b[0m \u001b[1m63s\u001b[0m 76ms/step - loss: 8.1393 - mae: 2.2185 - val_loss: 9.9700 - val_mae: 2.4595\n",
      "Epoch 10/10\n",
      "\u001b[1m819/819\u001b[0m \u001b[32m━━━━━━━━━━━━━━━━━━━━\u001b[0m\u001b[37m\u001b[0m \u001b[1m63s\u001b[0m 76ms/step - loss: 7.9114 - mae: 2.1872 - val_loss: 9.9521 - val_mae: 2.4547\n",
      "\u001b[1m405/405\u001b[0m \u001b[32m━━━━━━━━━━━━━━━━━━━━\u001b[0m\u001b[37m\u001b[0m \u001b[1m16s\u001b[0m 38ms/step - loss: 10.7173 - mae: 2.5560\n",
      "Test MAE: 2.55\n"
     ]
    }
   ],
   "source": [
    "inputs = keras.Input(shape=(sequence_length, raw_data.shape[-1]))\n",
    "x = layers.LSTM(16)(inputs)\n",
    "outputs = layers.Dense(1)(x)\n",
    "model = keras.Model(inputs, outputs)\n",
    "\n",
    "callbacks = [keras.callbacks.ModelCheckpoint(\"jena_lstm.keras\", save_best_only=True)]\n",
    "\n",
    "model.compile(optimizer=\"rmsprop\", loss=\"mse\", metrics=[\"mae\"])\n",
    "history = model.fit(train_dataset, epochs=10, validation_data=val_dataset, callbacks=callbacks)\n",
    "\n",
    "model = keras.models.load_model(\"jena_lstm.keras\")\n",
    "print(f\"Test MAE: {model.evaluate(test_dataset)[1]:.2f}\")"
   ]
  },
  {
   "cell_type": "code",
   "execution_count": 15,
   "metadata": {
    "colab": {
     "base_uri": "https://localhost:8080/",
     "height": 452
    },
    "id": "FaTszQSCZ5lI",
    "outputId": "bbcd0c9f-6824-4e39-be47-f1d456ed64bf"
   },
   "outputs": [
    {
     "data": {
      "image/png": "[encoded data removed]",
      "text/plain": [
       "<Figure size 640x480 with 1 Axes>"
      ]
     },
     "metadata": {},
     "output_type": "display_data"
    }
   ],
   "source": [
    "loss = history.history[\"mae\"]\n",
    "val_loss = history.history[\"val_mae\"]\n",
    "epochs = range(1, len(loss) + 1)\n",
    "plt.figure()\n",
    "plt.plot(epochs, loss, \"bo\", label=\"Training MAE\")\n",
    "plt.plot(epochs, val_loss, \"b\", label=\"Validation MAE\")\n",
    "plt.title(\"Training and validation MAE\")\n",
    "plt.legend()\n",
    "plt.show()"
   ]
  },
  {
   "cell_type": "markdown",
   "metadata": {
    "id": "mWHyUf8UWleh"
   },
   "source": [
    "We managed to reach a validation MAE of about 2.36 degrees and a test MAE of 2.55 degrees approximately. The LSTM-based approach outperforms the common-sense baseline, although the improvement is modest."
   ]
  },
  {
   "cell_type": "markdown",
   "metadata": {
    "id": "O85Dsef0Wlei"
   },
   "source": [
    "## References\n",
    "\n",
    "[1] Chollet, Francois. *Deep learning with Python*. Simon and Schuster, 2021."
   ]
  }
 ],
 "metadata": {
  "accelerator": "TPU",
  "colab": {
   "gpuType": "V28",
   "provenance": [],
   "toc_visible": true
  },
  "kernelspec": {
   "display_name": ".venv",
   "language": "python",
   "name": "python3"
  },
  "language_info": {
   "codemirror_mode": {
    "name": "ipython",
    "version": 3
   },
   "file_extension": ".py",
   "mimetype": "text/x-python",
   "name": "python",
   "nbconvert_exporter": "python",
   "pygments_lexer": "ipython3",
   "version": "3.12.1"
  }
 },
 "nbformat": 4,
 "nbformat_minor": 1
}
